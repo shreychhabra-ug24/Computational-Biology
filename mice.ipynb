{
 "cells": [
  {
   "cell_type": "markdown",
   "metadata": {},
   "source": [
    "# Mice Survival Model"
   ]
  },
  {
   "cell_type": "code",
   "execution_count": 1,
   "metadata": {},
   "outputs": [],
   "source": [
    "import random"
   ]
  },
  {
   "cell_type": "code",
   "execution_count": 2,
   "metadata": {},
   "outputs": [],
   "source": [
    "# Initial population parameters\n",
    "N = 100  # Starting number of mice\n",
    "dark_percentage = 0.05  # The percentage of dark-colored mice in the initial population (should be 0.05, not 0.85)\n",
    "pop = ['D']*int(N*dark_percentage) + ['L']*int(N*(1-dark_percentage))  # Create a list representing each mouse, 'D' for dark and 'L' for light-colored\n",
    "random.shuffle(pop)  # Randomize the order of mice in the population"
   ]
  },
  {
   "cell_type": "code",
   "execution_count": 3,
   "metadata": {},
   "outputs": [],
   "source": [
    "# Survival probabilities\n",
    "survival_prob_dark = 0.90  # Survival probability for dark-colored mice\n",
    "survival_prob_light = 0.80  # Survival probability for light-colored mice\n",
    "\n",
    "# Reproductive parameter\n",
    "fertility = 3  # Number of offspring each surviving mouse produces\n",
    "\n",
    "# Tracking the number of generations\n",
    "t = 0  # Generation counter"
   ]
  },
  {
   "cell_type": "code",
   "execution_count": 4,
   "metadata": {},
   "outputs": [
    {
     "name": "stdout",
     "output_type": "stream",
     "text": [
      "0 0.05952380952380952 252\n",
      "1 0.06965174129353234 603\n",
      "2 0.08016032064128256 1497\n",
      "3 0.08436724565756824 3627\n",
      "4 0.09347382732834807 8826\n",
      "5 0.10200338600451467 21264\n",
      "6 0.11326542423891654 51834\n"
     ]
    }
   ],
   "source": [
    "# Simulation loop\n",
    "while dark_percentage < 0.95:  # Continue the simulation until dark-colored mice exceed 95% of the population\n",
    "    \n",
    "    offspring = []  # List to hold the offspring of the current generation\n",
    "    for i in pop:  # Iterate through each mouse in the population\n",
    "        a = random.random()  # Draw a random number between 0 and 1\n",
    "        if a < survival_prob_dark and i == 'D':  # If the mouse is dark-colored and survives (based on survival probability)\n",
    "            offspring = offspring + ['D']*fertility  # Add dark-colored offspring to the offspring list\n",
    "        elif a < survival_prob_light and i == 'L':  # If the mouse is light-colored and survives\n",
    "            offspring = offspring + ['L']*fertility  # Add light-colored offspring to the offspring list\n",
    "    pop = offspring[:]  # Update the population with the offspring\n",
    "    dark_percentage = pop.count('D')/len(pop)  # Calculate the new percentage of dark-colored mice\n",
    "    print(t, dark_percentage, len(pop))  # Print the current generation, percentage of dark mice, and population size\n",
    "    t = t + 1  # Increment the generation counter\n",
    "    \n",
    "print(\"Generations needed:\",t)  # Print the total number of generations needed for dark-colored mice to exceed 95%"
   ]
  }
 ],
 "metadata": {
  "kernelspec": {
   "display_name": "Python 3",
   "language": "python",
   "name": "python3"
  },
  "language_info": {
   "codemirror_mode": {
    "name": "ipython",
    "version": 3
   },
   "file_extension": ".py",
   "mimetype": "text/x-python",
   "name": "python",
   "nbconvert_exporter": "python",
   "pygments_lexer": "ipython3",
   "version": "undefined.undefined.undefined"
  }
 },
 "nbformat": 4,
 "nbformat_minor": 2
}
